{
 "cells": [
  {
   "cell_type": "code",
   "execution_count": 1,
   "id": "7ff9eae9",
   "metadata": {},
   "outputs": [
    {
     "data": {
      "application/vnd.jupyter.widget-view+json": {
       "model_id": "d097417395914a95a2b38348e3f94e0c",
       "version_major": 2,
       "version_minor": 0
      },
      "text/plain": [
       "Turtle()"
      ]
     },
     "metadata": {},
     "output_type": "display_data"
    }
   ],
   "source": [
    "from mobilechelonian import Turtle\n",
    "t = Turtle()\n",
    "\n",
    "t.forward(50)\n",
    "t.left(90)\n",
    "t.forward(50)\n",
    "t.left(90)\n",
    "t.forward(50)\n",
    "t.right(90)\n",
    "t.forward(50)\n",
    "t.right(90)\n",
    "t.forward(50)"
   ]
  },
  {
   "cell_type": "markdown",
   "id": "c1a83c2f",
   "metadata": {},
   "source": [
    "**Упражнение 3**"
   ]
  },
  {
   "cell_type": "code",
   "execution_count": 2,
   "id": "171ec523",
   "metadata": {},
   "outputs": [
    {
     "data": {
      "application/vnd.jupyter.widget-view+json": {
       "model_id": "107da593daac406f8c561f579b8d2849",
       "version_major": 2,
       "version_minor": 0
      },
      "text/plain": [
       "Turtle()"
      ]
     },
     "metadata": {},
     "output_type": "display_data"
    }
   ],
   "source": [
    "t = Turtle()\n",
    "t.forward(100)\n",
    "t.right(90)\n",
    "t.forward(100)\n",
    "t.right(90)\n",
    "t.forward(100)\n",
    "t.right(90)\n",
    "t.forward(100)"
   ]
  },
  {
   "cell_type": "markdown",
   "id": "0df00ced",
   "metadata": {},
   "source": [
    "**Упражнение 4**"
   ]
  },
  {
   "cell_type": "code",
   "execution_count": 3,
   "id": "60c297ce",
   "metadata": {},
   "outputs": [
    {
     "data": {
      "application/vnd.jupyter.widget-view+json": {
       "model_id": "7b3b23c57f4948cab45909bbcdd56a2b",
       "version_major": 2,
       "version_minor": 0
      },
      "text/plain": [
       "Turtle()"
      ]
     },
     "metadata": {},
     "output_type": "display_data"
    }
   ],
   "source": [
    "t = Turtle()\n",
    "#help(t)\n",
    "#t.setposition(0, 50)\n",
    "t.speed(10)\n",
    "n = 40\n",
    "for i in range(n):\n",
    "    t.forward(10)\n",
    "    t.right(360 / n)"
   ]
  },
  {
   "cell_type": "markdown",
   "id": "ad857b33",
   "metadata": {},
   "source": [
    "**Упражнение 5**"
   ]
  },
  {
   "cell_type": "code",
   "execution_count": 4,
   "id": "970e27ad",
   "metadata": {},
   "outputs": [
    {
     "data": {
      "application/vnd.jupyter.widget-view+json": {
       "model_id": "48e73baae92443388e3348875e41dc67",
       "version_major": 2,
       "version_minor": 0
      },
      "text/plain": [
       "Turtle()"
      ]
     },
     "metadata": {},
     "output_type": "display_data"
    }
   ],
   "source": [
    "t = Turtle()\n",
    "t.speed(10)\n",
    "\n",
    "for a in range(10, 100, 10):\n",
    "    t.forward(a)\n",
    "    t.right(90)\n",
    "    t.forward(a)\n",
    "    t.right(90)\n",
    "    t.forward(a)\n",
    "    t.right(90)\n",
    "    t.forward(a)\n",
    "    t.left(90)\n",
    "    t.penup()\n",
    "    t.forward(5)\n",
    "    t.right(90)\n",
    "    t.forward(5)\n",
    "    t.right(90)\n",
    "    t.pendown()"
   ]
  },
  {
   "cell_type": "markdown",
   "id": "14a43ba4",
   "metadata": {},
   "source": [
    "**Упражнение 6**"
   ]
  },
  {
   "cell_type": "code",
   "execution_count": 5,
   "id": "1ac2e630",
   "metadata": {},
   "outputs": [
    {
     "data": {
      "application/vnd.jupyter.widget-view+json": {
       "model_id": "5450217e86234afd980741f774161cab",
       "version_major": 2,
       "version_minor": 0
      },
      "text/plain": [
       "Turtle()"
      ]
     },
     "metadata": {},
     "output_type": "display_data"
    }
   ],
   "source": [
    "n = 10\n",
    "t = Turtle()\n",
    "t.speed(10)\n",
    "k = 20\n",
    "\n",
    "for i in range(n):\n",
    "    t.forward(100)\n",
    "    #t.stamp()\n",
    "    for i in range(n):\n",
    "        t.forward(5)\n",
    "        t.right(360 / n)\n",
    "    t.backward(100)\n",
    "    t.right(360 / n)"
   ]
  },
  {
   "cell_type": "markdown",
   "id": "62196831",
   "metadata": {},
   "source": [
    "**Упражнение 7**"
   ]
  },
  {
   "cell_type": "code",
   "execution_count": 6,
   "id": "48515e9d",
   "metadata": {},
   "outputs": [
    {
     "data": {
      "application/vnd.jupyter.widget-view+json": {
       "model_id": "ca2d2cc1a5e9418081922d7a53a0b8a8",
       "version_major": 2,
       "version_minor": 0
      },
      "text/plain": [
       "Turtle()"
      ]
     },
     "metadata": {},
     "output_type": "display_data"
    }
   ],
   "source": [
    "import math\n",
    "t = Turtle()\n",
    "t.speed(10)\n",
    "k = 5\n",
    "dphi = 5\n",
    "phi = 0\n",
    "\n",
    "while (phi < 6 * 360):\n",
    "    t.forward(k * math.sqrt(1 + (phi / 180 * math.pi)**2) * (dphi / 180 * math.pi))\n",
    "    #print(phi)\n",
    "    phi += dphi\n",
    "    t.left(dphi)"
   ]
  },
  {
   "cell_type": "markdown",
   "id": "923ede63",
   "metadata": {},
   "source": [
    "**Упражнение 8**"
   ]
  },
  {
   "cell_type": "code",
   "execution_count": 7,
   "id": "2b8a89e6",
   "metadata": {},
   "outputs": [
    {
     "data": {
      "application/vnd.jupyter.widget-view+json": {
       "model_id": "3295342cb08b4ac588a46f4acd5f9643",
       "version_major": 2,
       "version_minor": 0
      },
      "text/plain": [
       "Turtle()"
      ]
     },
     "metadata": {},
     "output_type": "display_data"
    }
   ],
   "source": [
    "t = Turtle()\n",
    "t.speed(50)\n",
    "for i in range(50):\n",
    "    t.forward(i * 5)\n",
    "    t.right(90)"
   ]
  },
  {
   "cell_type": "markdown",
   "id": "249f7649",
   "metadata": {},
   "source": [
    "**Упражнение 9**"
   ]
  },
  {
   "cell_type": "code",
   "execution_count": 9,
   "id": "50ebe95f",
   "metadata": {},
   "outputs": [
    {
     "data": {
      "application/vnd.jupyter.widget-view+json": {
       "model_id": "9bf67f38e9a0492982218a4e04808bc6",
       "version_major": 2,
       "version_minor": 0
      },
      "text/plain": [
       "Turtle()"
      ]
     },
     "metadata": {},
     "output_type": "display_data"
    }
   ],
   "source": [
    "t = Turtle()\n",
    "t.speed(10)\n",
    "import math\n",
    "\n",
    "def polygon(n, R):\n",
    "    t.penup()\n",
    "    t.forward(R)\n",
    "    t.pendown()\n",
    "    t.left(180 - (n - 2) * 180 / n / 2)\n",
    "    #print(R * 2 * math.sin(math.pi / n), (n - 2) * 180 / n)\n",
    "    for i in range(n):\n",
    "        t.forward(R * 2 * math.sin(math.pi / n))\n",
    "        t.left(180 - (n - 2) * 180 / n)\n",
    "    t.penup()\n",
    "    t.home()\n",
    "\n",
    "for i in range(3, 7):\n",
    "    polygon(i, 5 * i**2)"
   ]
  },
  {
   "cell_type": "markdown",
   "id": "bc71a6a0",
   "metadata": {},
   "source": [
    "**Упражнение 10**"
   ]
  },
  {
   "cell_type": "code",
   "execution_count": 10,
   "id": "956d790f",
   "metadata": {},
   "outputs": [
    {
     "data": {
      "application/vnd.jupyter.widget-view+json": {
       "model_id": "ffe86442327f4a25b5775e9359567931",
       "version_major": 2,
       "version_minor": 0
      },
      "text/plain": [
       "Turtle()"
      ]
     },
     "metadata": {},
     "output_type": "display_data"
    }
   ],
   "source": [
    "t = Turtle()\n",
    "t.speed(10)\n",
    "\n",
    "def circle(x, y, R):\n",
    "    t.penup()\n",
    "    t.setposition(x, y + R)\n",
    "    t.pendown()\n",
    "    n = 30\n",
    "    for i in range(n):\n",
    "        t.forward(R * 2 * math.sin(math.pi / n))\n",
    "        t.left(180 - (n - 2) * 180 / n)\n",
    "\n",
    "circle(200, 100, 50)\n",
    "circle(200, 200, 50)\n",
    "circle(150, 150, 50)\n",
    "circle(250, 150, 50)"
   ]
  },
  {
   "cell_type": "markdown",
   "id": "5dce7a70",
   "metadata": {},
   "source": [
    "**Упражнение 11**"
   ]
  },
  {
   "cell_type": "code",
   "execution_count": 11,
   "id": "a9cb2199",
   "metadata": {},
   "outputs": [
    {
     "data": {
      "application/vnd.jupyter.widget-view+json": {
       "model_id": "5ddb91a79d6c40049c57130500aabdb7",
       "version_major": 2,
       "version_minor": 0
      },
      "text/plain": [
       "Turtle()"
      ]
     },
     "metadata": {},
     "output_type": "display_data"
    }
   ],
   "source": [
    "t = Turtle()\n",
    "t.speed(10)\n",
    "\n",
    "for i in range(12):\n",
    "    R = 20 + 5 * i\n",
    "    circle(200 + R, 200, R)\n",
    "    circle(200 - R, 200, R)"
   ]
  },
  {
   "cell_type": "code",
   "execution_count": 12,
   "id": "1c3e89d0",
   "metadata": {},
   "outputs": [
    {
     "data": {
      "application/vnd.jupyter.widget-view+json": {
       "model_id": "6c183ce65769469099f88be565077e94",
       "version_major": 2,
       "version_minor": 0
      },
      "text/plain": [
       "Turtle()"
      ]
     },
     "metadata": {},
     "output_type": "display_data"
    }
   ],
   "source": [
    "t = Turtle()\n",
    "t.speed(10)\n",
    "\n",
    "def arc_up(x, y, R):\n",
    "    t.penup()\n",
    "    t.setposition(x + R, y)\n",
    "    t.setbearing(0)\n",
    "    t.pendown()\n",
    "    n = 30\n",
    "    for i in range(round(n / 2) + 1):\n",
    "        t.forward(R * 2 * math.sin(math.pi / n))\n",
    "        t.left(180 - (n - 2) * 180 / n)\n",
    "        \n",
    "def arc_down(x, y, R):\n",
    "    t.penup()\n",
    "    t.setposition(x + R, y)\n",
    "    t.setbearing(180)\n",
    "    t.pendown()\n",
    "    n = 30\n",
    "    for i in range(round(n / 2) + 1):\n",
    "        t.forward(R * 2 * math.sin(math.pi / n))\n",
    "        t.right(180 - (n - 2) * 180 / n)\n",
    "        \n",
    "R = 30\n",
    "for i in range(4):\n",
    "    arc_up(100 + 2 * R * i - 6 * i, 200, R)\n",
    "    arc_down(100 + R * (2 * i + 1) - 6 * i - 3, 200, 3)"
   ]
  },
  {
   "cell_type": "markdown",
   "id": "63c61529",
   "metadata": {},
   "source": [
    "**Упражнение 12**"
   ]
  },
  {
   "cell_type": "code",
   "execution_count": 13,
   "id": "c2a15278",
   "metadata": {},
   "outputs": [
    {
     "data": {
      "application/vnd.jupyter.widget-view+json": {
       "model_id": "088bca965d7740ae993ab1f09b92d483",
       "version_major": 2,
       "version_minor": 0
      },
      "text/plain": [
       "Turtle()"
      ]
     },
     "metadata": {},
     "output_type": "display_data"
    }
   ],
   "source": [
    "t = Turtle()\n",
    "t.speed(10)\n",
    "circle(200, 200, 100)\n",
    "circle(160, 150, 15)\n",
    "circle(240, 150, 15)\n",
    "arc_down(200, 200, 40)"
   ]
  },
  {
   "cell_type": "code",
   "execution_count": 14,
   "id": "97234639",
   "metadata": {},
   "outputs": [
    {
     "data": {
      "application/vnd.jupyter.widget-view+json": {
       "model_id": "2c6043fb194340239a51e7029213d722",
       "version_major": 2,
       "version_minor": 0
      },
      "text/plain": [
       "Turtle()"
      ]
     },
     "metadata": {},
     "output_type": "display_data"
    }
   ],
   "source": [
    "t = Turtle()\n",
    "t.speed(10)\n",
    "\n",
    "def star(x, y, n, a):\n",
    "    t.penup()\n",
    "    t.setposition(x, y)\n",
    "    t.pendown()\n",
    "    for i in range(n):\n",
    "        t.forward(a)\n",
    "        t.left(round(180 - 180 / n))\n",
    "    \n",
    "\n",
    "star(100, 100, 5, 100)\n",
    "star(200, 200, 11, 100)"
   ]
  },
  {
   "cell_type": "code",
   "execution_count": null,
   "id": "84eaa4fe",
   "metadata": {},
   "outputs": [],
   "source": []
  }
 ],
 "metadata": {
  "kernelspec": {
   "display_name": "Python 3",
   "language": "python",
   "name": "python3"
  },
  "language_info": {
   "codemirror_mode": {
    "name": "ipython",
    "version": 3
   },
   "file_extension": ".py",
   "mimetype": "text/x-python",
   "name": "python",
   "nbconvert_exporter": "python",
   "pygments_lexer": "ipython3",
   "version": "3.6.13"
  }
 },
 "nbformat": 4,
 "nbformat_minor": 5
}
